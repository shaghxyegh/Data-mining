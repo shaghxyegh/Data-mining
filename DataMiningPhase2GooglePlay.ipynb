{
  "cells": [
    {
      "cell_type": "markdown",
      "metadata": {
        "id": "view-in-github",
        "colab_type": "text"
      },
      "source": [
        "<a href=\"https://colab.research.google.com/github/shaghxyegh/Data-mining/blob/main/DataMiningPhase2GooglePlay.ipynb\" target=\"_parent\"><img src=\"https://colab.research.google.com/assets/colab-badge.svg\" alt=\"Open In Colab\"/></a>"
      ]
    },
    {
      "cell_type": "code",
      "execution_count": null,
      "metadata": {
        "id": "mIUY0dGh2DnM"
      },
      "outputs": [],
      "source": [
        "from statistics import mean, median, mode\n",
        "from collections import Counter\n",
        "import matplotlib.pyplot as plt\n",
        "import numpy as np\n",
        "from collections import Counter\n",
        "import pandas as pd\n",
        "import re\n",
        "import regex\n",
        "from google.colab import drive\n",
        "from tabulate import tabulate\n",
        "import csv"
      ]
    },
    {
      "cell_type": "markdown",
      "source": [
        "# Quality Functions"
      ],
      "metadata": {
        "id": "8S_dxKDznQgw"
      }
    },
    {
      "cell_type": "code",
      "source": [
        "def calculate_completeness(total_datas,missing_datas):\n",
        "    completeness = ((total_datas - missing_datas) / total_datas) * 100\n",
        "    # print(f\"{feature_num} completeness is {completeness}%\")\n",
        "    return completeness"
      ],
      "metadata": {
        "id": "37fLeHe_v8Ez"
      },
      "execution_count": null,
      "outputs": []
    },
    {
      "cell_type": "code",
      "source": [
        "def check_validity(total_datas,null_count,valid_count):\n",
        "    valid_percentage = (valid_count  / (total_datas-null_count)) * 100\n",
        "    print('----------')\n",
        "    print(valid_count)\n",
        "    print(total_datas)\n",
        "    print(null_count)\n",
        "    print(valid_percentage)\n",
        "    print(\"-----------\")\n",
        "    # print(f\"{feature_num} validity is {valid_percentage}%\")\n",
        "    return valid_percentage"
      ],
      "metadata": {
        "id": "EJ8NQcO9v_pB"
      },
      "execution_count": null,
      "outputs": []
    },
    {
      "cell_type": "code",
      "source": [
        "def calculate_accuracy(dataset_size,worng_count):\n",
        "    percentage = (dataset_size-wrong_count)/ dataset_size * 100\n",
        "    # print(f\"{feature_num} accuracy is {percentage}%\")\n",
        "    return percentage"
      ],
      "metadata": {
        "id": "WDKe28kvwChi"
      },
      "execution_count": null,
      "outputs": []
    },
    {
      "cell_type": "markdown",
      "source": [
        "# consistancy"
      ],
      "metadata": {
        "id": "FNHXIMhInWvd"
      }
    },
    {
      "cell_type": "code",
      "source": [
        "#check_consistancy free and price\n",
        "drive.mount('/content/drive')\n",
        "csv_file_path = \"drive/MyDrive/Colab Notebooks//GooglePlay.csv\"\n",
        "\n",
        "# Open the CSV file\n",
        "with open(csv_file_path, newline='', encoding='utf-8') as file:\n",
        "    csv_reader = csv.reader(file)\n",
        "    inconsistancy_count_f =0\n",
        "    valid_count_f = 0\n",
        "    # Iterate over each row in the CSV file\n",
        "    i=0\n",
        "    next(csv_reader)\n",
        "    rows = list(csv_reader)\n",
        "    print(len(rows))\n",
        "    for i in range(0,len(rows)):\n",
        "        pattern_price = re.compile(r'^[0-9]+(\\.\\d+)?$', re.UNICODE)\n",
        "        pattern_free = re.compile(r'^(Free|Paid)$', re.UNICODE)\n",
        "        if bool(pattern_free.match(rows[i][7])) and bool(pattern_price.match(rows[i][8])):\n",
        "            Price = rows[i][8]\n",
        "            valid_count_f += 1\n",
        "            if(rows[i][7]==\"Free\" and not Price =='0') and (rows[i][7]==\"Paid\" and  Price =='0'):\n",
        "              inconsistancy_count_f += 1\n",
        "    consistancy_result= (valid_count_f - inconsistancy_count_f)  /valid_count_f*100\n",
        "    print(f\"For Free and Price consistancy result is {consistancy_result}%\")\n",
        "\n"
      ],
      "metadata": {
        "colab": {
          "base_uri": "https://localhost:8080/"
        },
        "id": "DgPabKf5wVMZ",
        "outputId": "e7bb8827-527a-4366-bcbc-5c284af54f2a"
      },
      "execution_count": null,
      "outputs": [
        {
          "output_type": "stream",
          "name": "stdout",
          "text": [
            "Drive already mounted at /content/drive; to attempt to forcibly remount, call drive.mount(\"/content/drive\", force_remount=True).\n",
            "10840\n",
            "For Free and Price consistancy result is 100.0%\n"
          ]
        }
      ]
    },
    {
      "cell_type": "markdown",
      "source": [
        "# currentness"
      ],
      "metadata": {
        "id": "9fDqo3Gpnb60"
      }
    },
    {
      "cell_type": "code",
      "source": [
        "#check_currentness last update\n",
        "import csv\n",
        "drive.mount('/content/drive')\n",
        "csv_file_path = \"drive/MyDrive/Colab Notebooks//GooglePlay.csv\"\n",
        "\n",
        "# Open the CSV file\n",
        "with open(csv_file_path, newline='', encoding='utf-8') as file:\n",
        "    csv_reader = csv.reader(file)\n",
        "    currentness_count =0\n",
        "\n",
        "    # Iterate over each row in the CSV file\n",
        "    i=0\n",
        "    next(csv_reader)\n",
        "    rows = list(csv_reader)\n",
        "    print(len(rows))\n",
        "    for i in range(0,len(rows)):\n",
        "        pattern = re.compile(r'\\b(?:[1-9]|[12]\\d|3[01])-(?:Jan|Feb|Mar|Apr|May|Jun|Jul|Aug|Sep|Oct|Nov|Dec)-\\d{2}\\b', re.UNICODE)\n",
        "        if bool(pattern.match(rows[i][11])):\n",
        "            update = rows[i][11]\n",
        "            year = int(update[-2:])\n",
        "            if year >= 17 :\n",
        "              currentness_count += 1\n",
        "    currentness_result = currentness_count / len(rows) * 100\n",
        "    print(f\"For last update currentness result is {currentness_result}%\")"
      ],
      "metadata": {
        "colab": {
          "base_uri": "https://localhost:8080/"
        },
        "id": "OkwSJLEmQ3wb",
        "outputId": "4772935d-ef38-48c7-fe45-9a1ffa9ea048"
      },
      "execution_count": null,
      "outputs": [
        {
          "output_type": "stream",
          "name": "stdout",
          "text": [
            "Drive already mounted at /content/drive; to attempt to forcibly remount, call drive.mount(\"/content/drive\", force_remount=True).\n",
            "10840\n",
            "For last update currentness result is 85.01845018450184%\n"
          ]
        }
      ]
    },
    {
      "cell_type": "code",
      "source": [
        "\n",
        "df = pd.DataFrame({\n",
        "    'Feature': [None],\n",
        "    'recods Num': [None],\n",
        "    'Null num': [None],\n",
        "    'Accuracy': [None],\n",
        "    'Completness': [None],\n",
        "    'Validity': [None],\n",
        "    })\n",
        "\n",
        "\n",
        "\n",
        "names=['Android Version']# rows names\n",
        "feature_index = 0"
      ],
      "metadata": {
        "id": "CgbAOdIWynuH"
      },
      "execution_count": null,
      "outputs": []
    },
    {
      "cell_type": "markdown",
      "source": [
        "# Creating Table (complpeteness,validity,accuracy)"
      ],
      "metadata": {
        "id": "db8nP71AnjJw"
      }
    },
    {
      "cell_type": "code",
      "execution_count": null,
      "metadata": {
        "colab": {
          "base_uri": "https://localhost:8080/"
        },
        "id": "fWs1KzqO4txW",
        "outputId": "9903802e-a37d-4494-db6e-5d1c931f0e18"
      },
      "outputs": [
        {
          "output_type": "stream",
          "name": "stdout",
          "text": [
            "Drive already mounted at /content/drive; to attempt to forcibly remount, call drive.mount(\"/content/drive\", force_remount=True).\n",
            "450794\n",
            "----------\n",
            "450794\n",
            "450794\n",
            "0\n",
            "100.0\n",
            "-----------\n",
            "╒════╤═════════════════╤══════════════╤════════════╤════════════╤═══════════════╤════════════╕\n",
            "│    │ Feature         │   recods Num │   Null num │   Accuracy │   Completness │   Validity │\n",
            "╞════╪═════════════════╪══════════════╪════════════╪════════════╪═══════════════╪════════════╡\n",
            "│  0 │ Android Version │        10840 │          0 │     87.417 │           100 │     87.417 │\n",
            "├────┼─────────────────┼──────────────┼────────────┼────────────┼───────────────┼────────────┤\n",
            "│  1 │ App Name        │       450794 │          0 │    100     │           100 │    100     │\n",
            "╘════╧═════════════════╧══════════════╧════════════╧════════════╧═══════════════╧════════════╛\n"
          ]
        }
      ],
      "source": [
        "from ast import pattern\n",
        "import csv\n",
        "#AppName\n",
        "# Path to your CSV file\n",
        "drive.mount('/content/drive')\n",
        "csv_file_path = \"drive/MyDrive/Colab Notebooks//Playstore_final.csv\"\n",
        "feature_index += 1\n",
        "# Open the CSV file\n",
        "with open(csv_file_path, newline='', encoding='utf-8') as file:\n",
        "    csv_reader = csv.reader(file)\n",
        "    null_count =0\n",
        "    wrong_count =0\n",
        "    # Iterate over each row in the CSV file\n",
        "    i=0\n",
        "    next(csv_reader)\n",
        "    rows = list(csv_reader)\n",
        "    print(len(rows))\n",
        "    for i in range(0,len(rows)):\n",
        "        j = 1\n",
        "        value = rows[i][j]\n",
        "        if value == \"N/A\":\n",
        "              null_count += 1\n",
        "              wrong_count += 1\n",
        "        if(value.isdigit()):\n",
        "              wrong_count += 1\n",
        "\n",
        "    accuracy = calculate_accuracy(len(rows),wrong_count)\n",
        "    validity = check_validity(len(rows),null_count,len(rows) - wrong_count)\n",
        "    complpeteness = calculate_completeness(len(rows),null_count)\n",
        "    df.at[feature_index, 'Feature'] = \"App Name\"\n",
        "    df.at[feature_index, 'recods Num'] = len(rows)\n",
        "    df.at[feature_index, 'Null num'] = null_count\n",
        "    df.at[feature_index, 'Accuracy'] = accuracy\n",
        "\n",
        "    df.at[feature_index, 'Completness'] = complpeteness\n",
        "    df.at[feature_index, 'Validity'] = validity\n",
        "    #print(df)\n",
        "    print(tabulate(df, headers='keys', tablefmt='fancy_grid'))\n",
        "\n",
        "\n",
        "\n"
      ]
    },
    {
      "cell_type": "code",
      "source": [
        "def unique_list(l):\n",
        "    seen = set()\n",
        "    return [x for x in l if not (x in seen or seen.add(x))]\n"
      ],
      "metadata": {
        "id": "GTYPl9dI0Oyq"
      },
      "execution_count": null,
      "outputs": []
    },
    {
      "cell_type": "code",
      "source": [
        "\n",
        "drive.mount('/content/drive')\n",
        "csv_file_path = \"drive/MyDrive/Colab Notebooks//Playstore_final.csv\"\n",
        "values = []\n",
        "# Open the CSV file\n",
        "with open(csv_file_path, newline='', encoding='utf-8') as file:\n",
        "    csv_reader = csv.reader(file)\n",
        "    null_count =0\n",
        "    wrong_count =0\n",
        "    # Iterate over each row in the CSV file\n",
        "    i=0\n",
        "    next(csv_reader)\n",
        "    rows = list(csv_reader)\n",
        "    print(len(rows))\n",
        "    for i in range(0,len(rows)):\n",
        "\n",
        "        j = 2\n",
        "        value = rows[i][j]\n",
        "        values.append(value)\n",
        "    v= unique_list(values)\n",
        "    print(v)\n"
      ],
      "metadata": {
        "colab": {
          "base_uri": "https://localhost:8080/"
        },
        "id": "8kQQgc6GzcBc",
        "outputId": "85300c39-454d-466f-dc0e-b7581a7cadb8"
      },
      "execution_count": null,
      "outputs": [
        {
          "output_type": "stream",
          "name": "stdout",
          "text": [
            "Drive already mounted at /content/drive; to attempt to forcibly remount, call drive.mount(\"/content/drive\", force_remount=True).\n",
            "450794\n",
            "['Education', 'News & Magazines', 'Adventure', 'Educational', 'Health & Fitness', 'Lifestyle', 'Dating', 'Sports', 'Entertainment', 'Food & Drink', 'Word', 'Role Playing', 'Arcade', 'Strategy', 'Puzzle', 'Productivity', 'Simulation', 'Tools', 'Casual', 'Music & Audio', 'Action', 'Business', 'Art & Design', 'Music', 'Parenting', 'House & Home', 'Auto & Vehicles', 'Trivia', 'Racing', 'Board', 'Books & Reference', 'Beauty', 'Personalization', 'Photography', 'Finance', 'Communication', 'Shopping', 'Social', 'Casino', 'Comics', 'Travel & Local', 'Medical', 'Libraries & Demo', 'Events', 'Card', 'Weather', 'Maps & Navigation', 'Video Players & Editors', 'N/A']\n"
          ]
        }
      ]
    },
    {
      "cell_type": "code",
      "execution_count": null,
      "metadata": {
        "colab": {
          "base_uri": "https://localhost:8080/"
        },
        "id": "4CdVCiAk4swa",
        "outputId": "20fe29f1-917c-4336-98a0-db993caa654c"
      },
      "outputs": [
        {
          "output_type": "stream",
          "name": "stdout",
          "text": [
            "Drive already mounted at /content/drive; to attempt to forcibly remount, call drive.mount(\"/content/drive\", force_remount=True).\n",
            "10840\n",
            "----------\n",
            "10840\n",
            "10840\n",
            "0\n",
            "100.0\n",
            "-----------\n",
            "╒════╤═════════════════╤══════════════╤════════════╤════════════╤═══════════════╤════════════╕\n",
            "│    │ Feature         │   recods Num │   Null num │   Accuracy │   Completness │   Validity │\n",
            "╞════╪═════════════════╪══════════════╪════════════╪════════════╪═══════════════╪════════════╡\n",
            "│  0 │ Android Version │        10840 │          0 │     87.417 │           100 │     87.417 │\n",
            "├────┼─────────────────┼──────────────┼────────────┼────────────┼───────────────┼────────────┤\n",
            "│  1 │ App Name        │       450794 │          0 │    100     │           100 │    100     │\n",
            "├────┼─────────────────┼──────────────┼────────────┼────────────┼───────────────┼────────────┤\n",
            "│  2 │ categories      │        10840 │          0 │    100     │           100 │    100     │\n",
            "╘════╧═════════════════╧══════════════╧════════════╧════════════╧═══════════════╧════════════╛\n"
          ]
        }
      ],
      "source": [
        "\n",
        "from ast import pattern\n",
        "import csv\n",
        "#categories\n",
        "# Path to your CSV file\n",
        "\n",
        "drive.mount('/content/drive')\n",
        "csv_file_path = \"drive/MyDrive/Colab Notebooks//GooglePlay.csv\"\n",
        "feature_index += 1\n",
        "# Open the CSV file\n",
        "with open(csv_file_path, newline='', encoding='utf-8') as file:\n",
        "    csv_reader = csv.reader(file)\n",
        "    null_count =0\n",
        "    wrong_count =0\n",
        "    # Iterate over each row in the CSV file\n",
        "    i=0\n",
        "    next(csv_reader)\n",
        "    rows = list(csv_reader)\n",
        "    print(len(rows))\n",
        "    for i in range(0,len(rows)):\n",
        "        j = 2\n",
        "        value = rows[i][j]\n",
        "        pattern = re.compile(r'^(ART_AND_DESIGN|AUTO_AND_VEHICLES|BEAUTY|BOOKS_AND_REFERENCE|BUSINESS|COMICS|COMMUNICATION|DATING|EDUCATION|ENTERTAINMENT|EVENTS|FINANCE|FOOD_AND_DRINK|HEALTH_AND_FITNESS|HOUSE_AND_HOME|LIBRARIES_AND_DEMO|LIFESTYLE|GAME|FAMILY|MEDICAL|SOCIAL|SHOPPING|PHOTOGRAPHY|SPORTS|TRAVEL_AND_LOCAL|TOOLS|PERSONALIZATION|PRODUCTIVITY|PARENTING|WEATHER|VIDEO_PLAYERS|NEWS_AND_MAGAZINES|MAPS_AND_NAVIGATION)$', re.UNICODE)\n",
        "        if not bool(pattern.match(value)):\n",
        "            print(\"un mathced value \",value)\n",
        "            wrong_count +=1\n",
        "            if value == \"N/A\":\n",
        "              null_count += 1\n",
        "    accuracy = calculate_accuracy(len(rows),wrong_count)\n",
        "    validity = check_validity(len(rows),null_count,len(rows) - wrong_count)\n",
        "    complpeteness = calculate_completeness(len(rows),null_count)\n",
        "    df.at[feature_index, 'Feature'] = \"categories\"\n",
        "    df.at[feature_index, 'recods Num'] = len(rows)\n",
        "    df.at[feature_index, 'Null num'] = null_count\n",
        "    df.at[feature_index, 'Accuracy'] = accuracy\n",
        "\n",
        "    df.at[feature_index, 'Completness'] = complpeteness\n",
        "    df.at[feature_index, 'Validity'] = validity\n",
        "    #print(df)\n",
        "    print(tabulate(df, headers='keys', tablefmt='fancy_grid'))\n"
      ]
    },
    {
      "cell_type": "code",
      "execution_count": null,
      "metadata": {
        "colab": {
          "base_uri": "https://localhost:8080/"
        },
        "id": "eOkT2-UC42i6",
        "outputId": "e22cb216-c4e0-4ad0-e9dc-bbee7f72551e"
      },
      "outputs": [
        {
          "output_type": "stream",
          "name": "stdout",
          "text": [
            "Drive already mounted at /content/drive; to attempt to forcibly remount, call drive.mount(\"/content/drive\", force_remount=True).\n",
            "10840\n",
            "----------\n",
            "9366\n",
            "10840\n",
            "1474\n",
            "100.0\n",
            "-----------\n",
            "╒════╤═════════════════╤══════════════╤════════════╤════════════╤═══════════════╤════════════╕\n",
            "│    │ Feature         │   recods Num │   Null num │   Accuracy │   Completness │   Validity │\n",
            "╞════╪═════════════════╪══════════════╪════════════╪════════════╪═══════════════╪════════════╡\n",
            "│  0 │ Android Version │        10840 │          0 │    87.417  │      100      │     87.417 │\n",
            "├────┼─────────────────┼──────────────┼────────────┼────────────┼───────────────┼────────────┤\n",
            "│  1 │ App Name        │       450794 │          0 │   100      │      100      │    100     │\n",
            "├────┼─────────────────┼──────────────┼────────────┼────────────┼───────────────┼────────────┤\n",
            "│  2 │ categories      │        10840 │          0 │   100      │      100      │    100     │\n",
            "├────┼─────────────────┼──────────────┼────────────┼────────────┼───────────────┼────────────┤\n",
            "│  3 │ Rating          │        10840 │       1474 │    86.4022 │       86.4022 │    100     │\n",
            "╘════╧═════════════════╧══════════════╧════════════╧════════════╧═══════════════╧════════════╛\n"
          ]
        }
      ],
      "source": [
        "from ast import pattern\n",
        "import csv\n",
        "#Rating\n",
        "# Path to your CSV file\n",
        "drive.mount('/content/drive')\n",
        "csv_file_path = \"drive/MyDrive/Colab Notebooks//GooglePlay.csv\"\n",
        "feature_index += 1\n",
        "with open(csv_file_path, newline='', encoding='utf-8') as file:\n",
        "    csv_reader = csv.reader(file)\n",
        "    null_count =0\n",
        "    wrong_count =0\n",
        "    # Iterate over each row in the CSV file\n",
        "    i=0\n",
        "    worng_count =0\n",
        "    null_count =0\n",
        "    valid_count = 0\n",
        "    next(csv_reader)\n",
        "    rows = list(csv_reader)\n",
        "    print(len(rows))\n",
        "    for i in range(0,len(rows)):\n",
        "        j = 3\n",
        "        value = rows[i][j]\n",
        "\n",
        "        pattern = re.compile(r'^[0-5](\\.\\d+)?$', re.UNICODE)\n",
        "        if not bool(pattern.match(value)):\n",
        "\n",
        "          wrong_count += 1\n",
        "          #print(f\"{value} Not  matches the pattern \")\n",
        "          if(value == \"N/A\" or value == \"\"):\n",
        "              null_count += 1\n",
        "\n",
        "\n",
        "    accuracy = calculate_accuracy(len(rows),wrong_count)\n",
        "    validity = check_validity(len(rows),null_count,len(rows) - wrong_count)\n",
        "    complpeteness = calculate_completeness(len(rows),null_count)\n",
        "    df.at[feature_index, 'Feature'] = \"Rating\"\n",
        "    df.at[feature_index, 'recods Num'] = len(rows)\n",
        "    df.at[feature_index, 'Null num'] = null_count\n",
        "    df.at[feature_index, 'Accuracy'] = accuracy\n",
        "\n",
        "    df.at[feature_index, 'Completness'] = complpeteness\n",
        "    df.at[feature_index, 'Validity'] = validity\n",
        "    #print(df)\n",
        "    print(tabulate(df, headers='keys', tablefmt='fancy_grid'))\n",
        "\n",
        "\n",
        "\n",
        "\n",
        "\n"
      ]
    },
    {
      "cell_type": "code",
      "source": [
        "from ast import pattern\n",
        "import csv\n",
        "#Reviews\n",
        "# Path to your CSV file\n",
        "drive.mount('/content/drive')\n",
        "csv_file_path = \"drive/MyDrive/Colab Notebooks//GooglePlay.csv\"\n",
        "feature_index += 1\n",
        "\n",
        "# Open the CSV file\n",
        "with open(csv_file_path, newline='', encoding='utf-8') as file:\n",
        "    csv_reader = csv.reader(file)\n",
        "    wrong_count = 0\n",
        "    null_count = 0\n",
        "    # Iterate over each row in the CSV file\n",
        "    i=0\n",
        "    next(csv_reader)\n",
        "    rows = list(csv_reader)\n",
        "    print(len(rows))\n",
        "    for i in range(0,len(rows)):\n",
        "        j = 4\n",
        "        value = rows[i][j]\n",
        "        if(value.isdigit()):\n",
        "          v=int(value)\n",
        "\n",
        "        else :\n",
        "          wrong_count +=1\n",
        "          if value == \"N/A\":\n",
        "                null_count += 1\n",
        "\n",
        "\n",
        "    accuracy = calculate_accuracy(len(rows),wrong_count)\n",
        "    valid_count = len(rows) - wrong_count\n",
        "    validity = check_validity(len(rows),null_count,valid_count)\n",
        "    complpeteness = calculate_completeness(len(rows),null_count)\n",
        "    df.at[feature_index, 'Feature'] = \"Reviews\"\n",
        "    df.at[feature_index, 'recods Num'] = len(rows)\n",
        "    df.at[feature_index, 'Null num'] = null_count\n",
        "    df.at[feature_index, 'Accuracy'] = accuracy\n",
        "\n",
        "    df.at[feature_index, 'Completness'] = complpeteness\n",
        "    df.at[feature_index, 'Validity'] = validity\n",
        "    print(wrong_count)\n",
        "    print(tabulate(df, headers='keys', tablefmt='fancy_grid'))"
      ],
      "metadata": {
        "colab": {
          "base_uri": "https://localhost:8080/"
        },
        "id": "YWVRuU035id3",
        "outputId": "69c9ef62-f031-4356-9c65-8192b5c3aa49"
      },
      "execution_count": null,
      "outputs": [
        {
          "output_type": "stream",
          "name": "stdout",
          "text": [
            "Drive already mounted at /content/drive; to attempt to forcibly remount, call drive.mount(\"/content/drive\", force_remount=True).\n",
            "10840\n",
            "----------\n",
            "10840\n",
            "10840\n",
            "0\n",
            "100.0\n",
            "-----------\n",
            "0\n",
            "╒════╤═════════════════╤══════════════╤════════════╤════════════╤═══════════════╤════════════╕\n",
            "│    │ Feature         │   recods Num │   Null num │   Accuracy │   Completness │   Validity │\n",
            "╞════╪═════════════════╪══════════════╪════════════╪════════════╪═══════════════╪════════════╡\n",
            "│  0 │ Android Version │        10840 │          0 │    87.417  │      100      │     87.417 │\n",
            "├────┼─────────────────┼──────────────┼────────────┼────────────┼───────────────┼────────────┤\n",
            "│  1 │ App Name        │       450794 │          0 │   100      │      100      │    100     │\n",
            "├────┼─────────────────┼──────────────┼────────────┼────────────┼───────────────┼────────────┤\n",
            "│  2 │ categories      │        10840 │          0 │   100      │      100      │    100     │\n",
            "├────┼─────────────────┼──────────────┼────────────┼────────────┼───────────────┼────────────┤\n",
            "│  3 │ Rating          │        10840 │       1474 │    86.4022 │       86.4022 │    100     │\n",
            "├────┼─────────────────┼──────────────┼────────────┼────────────┼───────────────┼────────────┤\n",
            "│  4 │ Reviews         │        10840 │          0 │   100      │      100      │    100     │\n",
            "╘════╧═════════════════╧══════════════╧════════════╧════════════╧═══════════════╧════════════╛\n"
          ]
        }
      ]
    },
    {
      "cell_type": "code",
      "source": [
        "from ast import pattern\n",
        "import csv\n",
        "#Size\n",
        "# Path to your CSV file\n",
        "drive.mount('/content/drive')\n",
        "csv_file_path = \"drive/MyDrive/Colab Notebooks//GooglePlay.csv\"\n",
        "feature_index += 1\n",
        "# Open the CSV file\n",
        "with open(csv_file_path, newline='', encoding='utf-8') as file:\n",
        "    csv_reader = csv.reader(file)\n",
        "    null_count =0\n",
        "    wrong_count =0\n",
        "    # Iterate over each row in the CSV file\n",
        "    i=0\n",
        "    next(csv_reader)\n",
        "    rows = list(csv_reader)\n",
        "    print(len(rows))\n",
        "    for i in range(0,len(rows)):\n",
        "\n",
        "        j = 5\n",
        "        value = rows[i][j]\n",
        "\n",
        "        pattern = re.compile(r'[0-9]+((\\.\\d+)|(,\\d{3})*)?(M|k|K)$', re.UNICODE)\n",
        "\n",
        "        if not bool(pattern.match(value)):\n",
        "            wrong_count +=1\n",
        "            if value == \"N/A\":\n",
        "              null_count += 1\n",
        "\n",
        "    accuracy = calculate_accuracy(len(rows),wrong_count)\n",
        "    validity = check_validity(len(rows),null_count,len(rows) - wrong_count)\n",
        "    complpeteness = calculate_completeness(len(rows),null_count)\n",
        "    df.at[feature_index, 'Feature'] = \"Size\"\n",
        "    df.at[feature_index, 'recods Num'] = len(rows)\n",
        "    df.at[feature_index, 'Null num'] = null_count\n",
        "    df.at[feature_index, 'Accuracy'] = accuracy\n",
        "\n",
        "    df.at[feature_index, 'Completness'] = complpeteness\n",
        "    df.at[feature_index, 'Validity'] = validity\n",
        "    #print(df)\n",
        "    print(tabulate(df, headers='keys', tablefmt='fancy_grid'))"
      ],
      "metadata": {
        "colab": {
          "base_uri": "https://localhost:8080/"
        },
        "id": "5CKgKRJt57vV",
        "outputId": "1ee0a74a-1982-4312-c4e4-d596b364f02b"
      },
      "execution_count": null,
      "outputs": [
        {
          "output_type": "stream",
          "name": "stdout",
          "text": [
            "Drive already mounted at /content/drive; to attempt to forcibly remount, call drive.mount(\"/content/drive\", force_remount=True).\n",
            "10840\n",
            "----------\n",
            "9145\n",
            "10840\n",
            "0\n",
            "84.36346863468634\n",
            "-----------\n",
            "╒════╤═════════════════╤══════════════╤════════════╤════════════╤═══════════════╤════════════╕\n",
            "│    │ Feature         │   recods Num │   Null num │   Accuracy │   Completness │   Validity │\n",
            "╞════╪═════════════════╪══════════════╪════════════╪════════════╪═══════════════╪════════════╡\n",
            "│  0 │ Android Version │        10840 │          0 │    87.417  │      100      │    87.417  │\n",
            "├────┼─────────────────┼──────────────┼────────────┼────────────┼───────────────┼────────────┤\n",
            "│  1 │ App Name        │       450794 │          0 │   100      │      100      │   100      │\n",
            "├────┼─────────────────┼──────────────┼────────────┼────────────┼───────────────┼────────────┤\n",
            "│  2 │ categories      │        10840 │          0 │   100      │      100      │   100      │\n",
            "├────┼─────────────────┼──────────────┼────────────┼────────────┼───────────────┼────────────┤\n",
            "│  3 │ Rating          │        10840 │       1474 │    86.4022 │       86.4022 │   100      │\n",
            "├────┼─────────────────┼──────────────┼────────────┼────────────┼───────────────┼────────────┤\n",
            "│  4 │ Reviews         │        10840 │          0 │   100      │      100      │   100      │\n",
            "├────┼─────────────────┼──────────────┼────────────┼────────────┼───────────────┼────────────┤\n",
            "│  5 │ Size            │        10840 │          0 │    84.3635 │      100      │    84.3635 │\n",
            "╘════╧═════════════════╧══════════════╧════════════╧════════════╧═══════════════╧════════════╛\n"
          ]
        }
      ]
    },
    {
      "cell_type": "code",
      "source": [
        "from ast import pattern\n",
        "import csv\n",
        "#Installs\n",
        "# Path to your CSV file\n",
        "drive.mount('/content/drive')\n",
        "csv_file_path = \"drive/MyDrive/Colab Notebooks//GooglePlay.csv\"\n",
        "feature_index += 1\n",
        "# Open the CSV file\n",
        "with open(csv_file_path, newline='', encoding='utf-8') as file:\n",
        "    csv_reader = csv.reader(file)\n",
        "    null_count =0\n",
        "    wrong_count =0\n",
        "    # Iterate over each row in the CSV file\n",
        "    i=0\n",
        "    next(csv_reader)\n",
        "    rows = list(csv_reader)\n",
        "    print(len(rows))\n",
        "    for i in range(0,len(rows)):\n",
        "        j = 6\n",
        "        value = rows[i][j]\n",
        "\n",
        "        pattern = re.compile(r'^[0-9][,\\d{3}]*[+]?$', re.UNICODE)\n",
        "\n",
        "        if not bool(pattern.match(value)):\n",
        "            wrong_count +=1\n",
        "            if value == \"N/A\":\n",
        "              null_count += 1\n",
        "\n",
        "    accuracy = calculate_accuracy(len(rows),wrong_count)\n",
        "    validity = check_validity(len(rows),null_count,len(rows) - wrong_count)\n",
        "    complpeteness = calculate_completeness(len(rows),null_count)\n",
        "    df.at[feature_index, 'Feature'] = \"Installs\"\n",
        "    df.at[feature_index, 'recods Num'] = len(rows)\n",
        "    df.at[feature_index, 'Null num'] = null_count\n",
        "    df.at[feature_index, 'Accuracy'] = accuracy\n",
        "\n",
        "    df.at[feature_index, 'Completness'] = complpeteness\n",
        "    df.at[feature_index, 'Validity'] = validity\n",
        "    #print(df)\n",
        "    print(tabulate(df, headers='keys', tablefmt='fancy_grid'))\n"
      ],
      "metadata": {
        "colab": {
          "base_uri": "https://localhost:8080/"
        },
        "id": "qHSaM7zy6phn",
        "outputId": "4d541421-e6ad-4ce5-d2eb-bd6debbd4d0a"
      },
      "execution_count": null,
      "outputs": [
        {
          "output_type": "stream",
          "name": "stdout",
          "text": [
            "Drive already mounted at /content/drive; to attempt to forcibly remount, call drive.mount(\"/content/drive\", force_remount=True).\n",
            "10840\n",
            "----------\n",
            "10840\n",
            "10840\n",
            "0\n",
            "100.0\n",
            "-----------\n",
            "╒════╤═════════════════╤══════════════╤════════════╤════════════╤═══════════════╤════════════╕\n",
            "│    │ Feature         │   recods Num │   Null num │   Accuracy │   Completness │   Validity │\n",
            "╞════╪═════════════════╪══════════════╪════════════╪════════════╪═══════════════╪════════════╡\n",
            "│  0 │ Android Version │        10840 │          0 │    87.417  │      100      │    87.417  │\n",
            "├────┼─────────────────┼──────────────┼────────────┼────────────┼───────────────┼────────────┤\n",
            "│  1 │ App Name        │       450794 │          0 │   100      │      100      │   100      │\n",
            "├────┼─────────────────┼──────────────┼────────────┼────────────┼───────────────┼────────────┤\n",
            "│  2 │ categories      │        10840 │          0 │   100      │      100      │   100      │\n",
            "├────┼─────────────────┼──────────────┼────────────┼────────────┼───────────────┼────────────┤\n",
            "│  3 │ Rating          │        10840 │       1474 │    86.4022 │       86.4022 │   100      │\n",
            "├────┼─────────────────┼──────────────┼────────────┼────────────┼───────────────┼────────────┤\n",
            "│  4 │ Reviews         │        10840 │          0 │   100      │      100      │   100      │\n",
            "├────┼─────────────────┼──────────────┼────────────┼────────────┼───────────────┼────────────┤\n",
            "│  5 │ Size            │        10840 │          0 │    84.3635 │      100      │    84.3635 │\n",
            "├────┼─────────────────┼──────────────┼────────────┼────────────┼───────────────┼────────────┤\n",
            "│  6 │ Installs        │        10840 │          0 │   100      │      100      │   100      │\n",
            "╘════╧═════════════════╧══════════════╧════════════╧════════════╧═══════════════╧════════════╛\n"
          ]
        }
      ]
    },
    {
      "cell_type": "code",
      "source": [
        "from ast import pattern\n",
        "import csv\n",
        "#Free\n",
        "# Path to your CSV file\n",
        "drive.mount('/content/drive')\n",
        "csv_file_path = \"drive/MyDrive/Colab Notebooks//GooglePlay.csv\"\n",
        "feature_index += 1\n",
        "# Open the CSV file\n",
        "with open(csv_file_path, newline='', encoding='utf-8') as file:\n",
        "    csv_reader = csv.reader(file)\n",
        "    null_count =0\n",
        "    wrong_count =0\n",
        "    # Iterate over each row in the CSV file\n",
        "    i=0\n",
        "    next(csv_reader)\n",
        "    rows = list(csv_reader)\n",
        "    print(len(rows))\n",
        "    for i in range(0,len(rows)):\n",
        "\n",
        "        j = 7\n",
        "        value = rows[i][j]\n",
        "\n",
        "        pattern = re.compile(r'^(Free|Paid|\\s)$', re.UNICODE)\n",
        "\n",
        "        if not bool(pattern.match(value)) and not value == \"\" :\n",
        "           print(f\"{value} Not  matches the pattern \")\n",
        "           wrong_count +=1\n",
        "        if value == \"\":\n",
        "           null_count += 1\n",
        "\n",
        "    accuracy = calculate_accuracy(len(rows),wrong_count)\n",
        "    validity = check_validity(len(rows),null_count,len(rows) - wrong_count)\n",
        "    complpeteness = calculate_completeness(len(rows),null_count)\n",
        "    df.at[feature_index, 'Feature'] = \"Free\"\n",
        "    df.at[feature_index, 'recods Num'] = len(rows)\n",
        "    df.at[feature_index, 'Null num'] = null_count\n",
        "    df.at[feature_index, 'Accuracy'] = accuracy\n",
        "\n",
        "    df.at[feature_index, 'Completness'] = complpeteness\n",
        "    df.at[feature_index, 'Validity'] = validity\n",
        "    #print(df)\n",
        "    print(tabulate(df, headers='keys', tablefmt='fancy_grid'))"
      ],
      "metadata": {
        "colab": {
          "base_uri": "https://localhost:8080/"
        },
        "id": "Yy1UQ6DW7KP8",
        "outputId": "c7ae1c2f-c6e1-4daa-ecf8-11a61de32ab0"
      },
      "execution_count": null,
      "outputs": [
        {
          "output_type": "stream",
          "name": "stdout",
          "text": [
            "Drive already mounted at /content/drive; to attempt to forcibly remount, call drive.mount(\"/content/drive\", force_remount=True).\n",
            "10840\n",
            "----------\n",
            "10840\n",
            "10840\n",
            "1\n",
            "100.0092259433527\n",
            "-----------\n",
            "╒════╤═════════════════╤══════════════╤════════════╤════════════╤═══════════════╤════════════╕\n",
            "│    │ Feature         │   recods Num │   Null num │   Accuracy │   Completness │   Validity │\n",
            "╞════╪═════════════════╪══════════════╪════════════╪════════════╪═══════════════╪════════════╡\n",
            "│  0 │ Android Version │        10840 │          0 │    87.417  │      100      │    87.417  │\n",
            "├────┼─────────────────┼──────────────┼────────────┼────────────┼───────────────┼────────────┤\n",
            "│  1 │ App Name        │       450794 │          0 │   100      │      100      │   100      │\n",
            "├────┼─────────────────┼──────────────┼────────────┼────────────┼───────────────┼────────────┤\n",
            "│  2 │ categories      │        10840 │          0 │   100      │      100      │   100      │\n",
            "├────┼─────────────────┼──────────────┼────────────┼────────────┼───────────────┼────────────┤\n",
            "│  3 │ Rating          │        10840 │       1474 │    86.4022 │       86.4022 │   100      │\n",
            "├────┼─────────────────┼──────────────┼────────────┼────────────┼───────────────┼────────────┤\n",
            "│  4 │ Reviews         │        10840 │          0 │   100      │      100      │   100      │\n",
            "├────┼─────────────────┼──────────────┼────────────┼────────────┼───────────────┼────────────┤\n",
            "│  5 │ Size            │        10840 │          0 │    84.3635 │      100      │    84.3635 │\n",
            "├────┼─────────────────┼──────────────┼────────────┼────────────┼───────────────┼────────────┤\n",
            "│  6 │ Installs        │        10840 │          0 │   100      │      100      │   100      │\n",
            "├────┼─────────────────┼──────────────┼────────────┼────────────┼───────────────┼────────────┤\n",
            "│  7 │ Free            │        10840 │          1 │   100      │       99.9908 │   100.009  │\n",
            "╘════╧═════════════════╧══════════════╧════════════╧════════════╧═══════════════╧════════════╛\n"
          ]
        }
      ]
    },
    {
      "cell_type": "code",
      "source": [
        "from ast import pattern\n",
        "import csv\n",
        "#Price\n",
        "# Path to your CSV file\n",
        "drive.mount('/content/drive')\n",
        "csv_file_path = \"drive/MyDrive/Colab Notebooks//GooglePlay.csv\"\n",
        "feature_index += 1\n",
        "# Open the CSV file\n",
        "with open(csv_file_path, newline='', encoding='utf-8') as file:\n",
        "    csv_reader = csv.reader(file)\n",
        "    null_count =0\n",
        "    wrong_count =0\n",
        "    # Iterate over each row in the CSV file\n",
        "    i=0\n",
        "    next(csv_reader)\n",
        "    rows = list(csv_reader)\n",
        "    print(len(rows))\n",
        "    for i in range(0,len(rows)):\n",
        "      #\n",
        "        j = 8\n",
        "        value = rows[i][j]\n",
        "\n",
        "        pattern = re.compile(r'^[$]?[0-9]+(\\.\\d+)?', re.UNICODE)\n",
        "\n",
        "        if not bool(pattern.match(value)):\n",
        "            wrong_count +=1\n",
        "            if value == \"N/A\":\n",
        "              null_count += 1\n",
        "\n",
        "    accuracy = calculate_accuracy(len(rows),wrong_count)\n",
        "    validity = check_validity(len(rows),null_count,len(rows) - wrong_count)\n",
        "    complpeteness = calculate_completeness(len(rows),null_count)\n",
        "    df.at[feature_index, 'Feature'] = \"Price\"\n",
        "    df.at[feature_index, 'recods Num'] = len(rows)\n",
        "    df.at[feature_index, 'Null num'] = null_count\n",
        "    df.at[feature_index, 'Accuracy'] = accuracy\n",
        "    df.at[feature_index, 'Completness'] = complpeteness\n",
        "    df.at[feature_index, 'Validity'] = validity\n",
        "    #print(df)\n",
        "    print(tabulate(df, headers='keys', tablefmt='fancy_grid'))"
      ],
      "metadata": {
        "colab": {
          "base_uri": "https://localhost:8080/"
        },
        "id": "lqIZSXEk8QgJ",
        "outputId": "6e170e4a-a715-4e2d-ad17-4bb8a3c9568b"
      },
      "execution_count": null,
      "outputs": [
        {
          "output_type": "stream",
          "name": "stdout",
          "text": [
            "Drive already mounted at /content/drive; to attempt to forcibly remount, call drive.mount(\"/content/drive\", force_remount=True).\n",
            "10840\n",
            "----------\n",
            "10840\n",
            "10840\n",
            "0\n",
            "100.0\n",
            "-----------\n",
            "╒════╤═════════════════╤══════════════╤════════════╤════════════╤═══════════════╤════════════╕\n",
            "│    │ Feature         │   recods Num │   Null num │   Accuracy │   Completness │   Validity │\n",
            "╞════╪═════════════════╪══════════════╪════════════╪════════════╪═══════════════╪════════════╡\n",
            "│  0 │ Android Version │        10840 │          0 │    87.417  │      100      │    87.417  │\n",
            "├────┼─────────────────┼──────────────┼────────────┼────────────┼───────────────┼────────────┤\n",
            "│  1 │ App Name        │       450794 │          0 │   100      │      100      │   100      │\n",
            "├────┼─────────────────┼──────────────┼────────────┼────────────┼───────────────┼────────────┤\n",
            "│  2 │ categories      │        10840 │          0 │   100      │      100      │   100      │\n",
            "├────┼─────────────────┼──────────────┼────────────┼────────────┼───────────────┼────────────┤\n",
            "│  3 │ Rating          │        10840 │       1474 │    86.4022 │       86.4022 │   100      │\n",
            "├────┼─────────────────┼──────────────┼────────────┼────────────┼───────────────┼────────────┤\n",
            "│  4 │ Reviews         │        10840 │          0 │   100      │      100      │   100      │\n",
            "├────┼─────────────────┼──────────────┼────────────┼────────────┼───────────────┼────────────┤\n",
            "│  5 │ Size            │        10840 │          0 │    84.3635 │      100      │    84.3635 │\n",
            "├────┼─────────────────┼──────────────┼────────────┼────────────┼───────────────┼────────────┤\n",
            "│  6 │ Installs        │        10840 │          0 │   100      │      100      │   100      │\n",
            "├────┼─────────────────┼──────────────┼────────────┼────────────┼───────────────┼────────────┤\n",
            "│  7 │ Free            │        10840 │          1 │   100      │       99.9908 │   100.009  │\n",
            "├────┼─────────────────┼──────────────┼────────────┼────────────┼───────────────┼────────────┤\n",
            "│  8 │ Price           │        10840 │          0 │   100      │      100      │   100      │\n",
            "╘════╧═════════════════╧══════════════╧════════════╧════════════╧═══════════════╧════════════╛\n"
          ]
        }
      ]
    },
    {
      "cell_type": "code",
      "source": [
        "from ast import pattern\n",
        "import csv\n",
        "#Content Rating\n",
        "drive.mount('/content/drive')\n",
        "csv_file_path = \"drive/MyDrive/Colab Notebooks//GooglePlay.csv\"\n",
        "feature_index += 1\n",
        "# Open the CSV file\n",
        "with open(csv_file_path, newline='', encoding='utf-8') as file:\n",
        "    csv_reader = csv.reader(file)\n",
        "    null_count =0\n",
        "    wrong_count =0\n",
        "    # Iterate over each row in the CSV file\n",
        "    i=0\n",
        "    next(csv_reader)\n",
        "    rows = list(csv_reader)\n",
        "    print(len(rows))\n",
        "    for i in range(0,len(rows)):\n",
        "        j = 9\n",
        "        value = rows[i][j]\n",
        "        pattern = re.compile(r'^[Adults only 18+|Everyone|Everyone 10+|Mature 17+|Teen]', re.UNICODE)\n",
        "\n",
        "        if not bool(pattern.match(value)):\n",
        "            wrong_count +=1\n",
        "            if value == \"N/A\":\n",
        "              null_count += 1\n",
        "    accuracy = calculate_accuracy(len(rows),wrong_count)\n",
        "    validity = check_validity(len(rows),null_count,len(rows) - wrong_count)\n",
        "    complpeteness = calculate_completeness(len(rows),null_count)\n",
        "    df.at[feature_index, 'Feature'] = \"Content Rating\"\n",
        "    df.at[feature_index, 'recods Num'] = len(rows)\n",
        "    df.at[feature_index, 'Null num'] = null_count\n",
        "    df.at[feature_index, 'Accuracy'] = accuracy\n",
        "\n",
        "    df.at[feature_index, 'Completness'] = complpeteness\n",
        "    df.at[feature_index, 'Validity'] = validity\n",
        "    #print(df)\n",
        "    print(tabulate(df, headers='keys', tablefmt='fancy_grid'))"
      ],
      "metadata": {
        "colab": {
          "base_uri": "https://localhost:8080/"
        },
        "id": "zdbOjoKw91k5",
        "outputId": "c911752a-10a5-4503-fcad-41db917b7647"
      },
      "execution_count": null,
      "outputs": [
        {
          "output_type": "stream",
          "name": "stdout",
          "text": [
            "Drive already mounted at /content/drive; to attempt to forcibly remount, call drive.mount(\"/content/drive\", force_remount=True).\n",
            "10840\n",
            "----------\n",
            "10838\n",
            "10840\n",
            "0\n",
            "99.98154981549816\n",
            "-----------\n",
            "╒════╤═════════════════╤══════════════╤════════════╤════════════╤═══════════════╤════════════╕\n",
            "│    │ Feature         │   recods Num │   Null num │   Accuracy │   Completness │   Validity │\n",
            "╞════╪═════════════════╪══════════════╪════════════╪════════════╪═══════════════╪════════════╡\n",
            "│  0 │ Android Version │        10840 │          0 │    87.417  │      100      │    87.417  │\n",
            "├────┼─────────────────┼──────────────┼────────────┼────────────┼───────────────┼────────────┤\n",
            "│  1 │ App Name        │       450794 │          0 │   100      │      100      │   100      │\n",
            "├────┼─────────────────┼──────────────┼────────────┼────────────┼───────────────┼────────────┤\n",
            "│  2 │ categories      │        10840 │          0 │   100      │      100      │   100      │\n",
            "├────┼─────────────────┼──────────────┼────────────┼────────────┼───────────────┼────────────┤\n",
            "│  3 │ Rating          │        10840 │       1474 │    86.4022 │       86.4022 │   100      │\n",
            "├────┼─────────────────┼──────────────┼────────────┼────────────┼───────────────┼────────────┤\n",
            "│  4 │ Reviews         │        10840 │          0 │   100      │      100      │   100      │\n",
            "├────┼─────────────────┼──────────────┼────────────┼────────────┼───────────────┼────────────┤\n",
            "│  5 │ Size            │        10840 │          0 │    84.3635 │      100      │    84.3635 │\n",
            "├────┼─────────────────┼──────────────┼────────────┼────────────┼───────────────┼────────────┤\n",
            "│  6 │ Installs        │        10840 │          0 │   100      │      100      │   100      │\n",
            "├────┼─────────────────┼──────────────┼────────────┼────────────┼───────────────┼────────────┤\n",
            "│  7 │ Free            │        10840 │          1 │   100      │       99.9908 │   100.009  │\n",
            "├────┼─────────────────┼──────────────┼────────────┼────────────┼───────────────┼────────────┤\n",
            "│  8 │ Price           │        10840 │          0 │   100      │      100      │   100      │\n",
            "├────┼─────────────────┼──────────────┼────────────┼────────────┼───────────────┼────────────┤\n",
            "│  9 │ Content Rating  │        10840 │          0 │    99.9815 │      100      │    99.9815 │\n",
            "╘════╧═════════════════╧══════════════╧════════════╧════════════╧═══════════════╧════════════╛\n"
          ]
        }
      ]
    },
    {
      "cell_type": "code",
      "source": [
        "from ast import pattern\n",
        "import csv\n",
        "#categories\n",
        "# Path to your CSV file\n",
        "\n",
        "drive.mount('/content/drive')\n",
        "csv_file_path = \"drive/MyDrive/Colab Notebooks//GooglePlay.csv\"\n",
        "feature_index += 1\n",
        "# Open the CSV file\n",
        "with open(csv_file_path, newline='', encoding='utf-8') as file:\n",
        "    csv_reader = csv.reader(file)\n",
        "    null_count =0\n",
        "    wrong_count =0\n",
        "    # Iterate over each row in the CSV file\n",
        "    i=0\n",
        "    next(csv_reader)\n",
        "    rows = list(csv_reader)\n",
        "    print(len(rows))\n",
        "    for i in range(0,len(rows)):\n",
        "\n",
        "        j = 10\n",
        "        value = rows[i][j]\n",
        "\n",
        "        pattern = re.compile(r'^(Art & Design|Art & Design;Pretend Play|Art & Design;Creativity|Art & Design;Action & Adventure|Auto & Vehicles|Beauty|Books & Reference|Business|Comics|Comics;Creativity|Communication|Dating|Education;Education|Education|Education;Creativity|Education;Music & Video|Education;Action & Adventure|Education;Pretend Play|Education;Brain Games|Entertainment|Entertainment;Music & Video|Entertainment;Brain Games|Entertainment;Creativity|Events|Finance|Food & Drink|Health & Fitness|House & Home|Libraries & Demo|Lifestyle|Lifestyle;Pretend Play|Adventure;Action & Adventure|Arcade|Casual|Card|Casual;Pretend Play|Action|Strategy|Puzzle|Sports|Music|Word|Racing|Casual;Creativity|Casual;Action & Adventure|Simulation|Adventure|Board|Trivia|Role Playing|Simulation;Education|Action;Action & Adventure|Casual;Brain Games|Simulation;Action & Adventure|Educational;Creativity|Puzzle;Brain Games|Educational;Education|Card;Brain Games|Educational;Brain Games|Educational;Pretend Play|Entertainment;Education|Casual;Education|Music;Music & Video|Racing;Action & Adventure|Arcade;Pretend Play|Role Playing;Action & Adventure|Simulation;Pretend Play|Puzzle;Creativity|Sports;Action & Adventure|Educational;Action & Adventure|Arcade;Action & Adventure|Entertainment;Action & Adventure|Puzzle;Action & Adventure|Strategy;Action & Adventure|Music & Audio;Music & Video|Health & Fitness;Education|Adventure;Education|Board;Brain Games|Board;Action & Adventure|Board;Pretend Play|Casual;Music & Video|Role Playing;Pretend Play|Entertainment;Pretend Play|Video Players & Editors;Creativity|Card;Action & Adventure|Medical|Social|Shopping|Photography|Travel & Local|Travel & Local;Action & Adventure|Tools|Tools;Education|Personalization|Productivity|Parenting|Parenting;Music & Video|Parenting;Education|Parenting;Brain Games|Weather|Video Players & Editors|Video Players & Editors;Music & Video|News & Magazines|Maps & Navigation|Health & Fitness;Action & Adventure|Educational|Casino|Adventure;Brain Games|Trivia;Education|Lifestyle;Education|Books & Reference;Creativity|Books & Reference;Education|Puzzle;Education|Role Playing;Education|Role Playing;Brain Games|Strategy;Education|Racing;Pretend Play|Communication;Creativity|Strategy;Creativity)$', re.UNICODE)\n",
        "\n",
        "        if not bool(pattern.match(value)):\n",
        "            print(f\"{value} Not  matches the pattern \")\n",
        "            wrong_count +=1\n",
        "            if value == \"N/A\":\n",
        "              null_count += 1\n",
        "\n",
        "    accuracy = calculate_accuracy(len(rows),wrong_count)\n",
        "    validity = check_validity(len(rows),null_count,len(rows) - wrong_count)\n",
        "    complpeteness = calculate_completeness(len(rows),null_count)\n",
        "    df.at[feature_index, 'Feature'] = \"categories\"\n",
        "    df.at[feature_index, 'recods Num'] = len(rows)\n",
        "    df.at[feature_index, 'Null num'] = null_count\n",
        "    df.at[feature_index, 'Accuracy'] = accuracy\n",
        "\n",
        "    df.at[feature_index, 'Completness'] = complpeteness\n",
        "    df.at[feature_index, 'Validity'] = validity\n",
        "    #print(df)\n",
        "    print(tabulate(df, headers='keys', tablefmt='fancy_grid'))"
      ],
      "metadata": {
        "colab": {
          "base_uri": "https://localhost:8080/"
        },
        "id": "hao8Sm74_-5Z",
        "outputId": "24ac0607-c747-4231-cb24-f5e534b7d959"
      },
      "execution_count": null,
      "outputs": [
        {
          "output_type": "stream",
          "name": "stdout",
          "text": [
            "Drive already mounted at /content/drive; to attempt to forcibly remount, call drive.mount(\"/content/drive\", force_remount=True).\n",
            "10840\n",
            "----------\n",
            "10840\n",
            "10840\n",
            "0\n",
            "100.0\n",
            "-----------\n",
            "╒════╤═════════════════╤══════════════╤════════════╤════════════╤═══════════════╤════════════╕\n",
            "│    │ Feature         │   recods Num │   Null num │   Accuracy │   Completness │   Validity │\n",
            "╞════╪═════════════════╪══════════════╪════════════╪════════════╪═══════════════╪════════════╡\n",
            "│  0 │ Android Version │        10840 │          0 │    87.417  │      100      │    87.417  │\n",
            "├────┼─────────────────┼──────────────┼────────────┼────────────┼───────────────┼────────────┤\n",
            "│  1 │ App Name        │       450794 │          0 │   100      │      100      │   100      │\n",
            "├────┼─────────────────┼──────────────┼────────────┼────────────┼───────────────┼────────────┤\n",
            "│  2 │ categories      │        10840 │          0 │   100      │      100      │   100      │\n",
            "├────┼─────────────────┼──────────────┼────────────┼────────────┼───────────────┼────────────┤\n",
            "│  3 │ Rating          │        10840 │       1474 │    86.4022 │       86.4022 │   100      │\n",
            "├────┼─────────────────┼──────────────┼────────────┼────────────┼───────────────┼────────────┤\n",
            "│  4 │ Reviews         │        10840 │          0 │   100      │      100      │   100      │\n",
            "├────┼─────────────────┼──────────────┼────────────┼────────────┼───────────────┼────────────┤\n",
            "│  5 │ Size            │        10840 │          0 │    84.3635 │      100      │    84.3635 │\n",
            "├────┼─────────────────┼──────────────┼────────────┼────────────┼───────────────┼────────────┤\n",
            "│  6 │ Installs        │        10840 │          0 │   100      │      100      │   100      │\n",
            "├────┼─────────────────┼──────────────┼────────────┼────────────┼───────────────┼────────────┤\n",
            "│  7 │ Free            │        10840 │          1 │   100      │       99.9908 │   100.009  │\n",
            "├────┼─────────────────┼──────────────┼────────────┼────────────┼───────────────┼────────────┤\n",
            "│  8 │ Price           │        10840 │          0 │   100      │      100      │   100      │\n",
            "├────┼─────────────────┼──────────────┼────────────┼────────────┼───────────────┼────────────┤\n",
            "│  9 │ Content Rating  │        10840 │          0 │    99.9815 │      100      │    99.9815 │\n",
            "├────┼─────────────────┼──────────────┼────────────┼────────────┼───────────────┼────────────┤\n",
            "│ 10 │ categories      │        10840 │          0 │   100      │      100      │   100      │\n",
            "╘════╧═════════════════╧══════════════╧════════════╧════════════╧═══════════════╧════════════╛\n"
          ]
        }
      ]
    },
    {
      "cell_type": "code",
      "source": [
        "from ast import pattern\n",
        "import csv\n",
        "#Last Update\n",
        "drive.mount('/content/drive')\n",
        "csv_file_path = \"drive/MyDrive/Colab Notebooks//GooglePlay.csv\"\n",
        "feature_index += 1\n",
        "# Open the CSV file\n",
        "with open(csv_file_path, newline='', encoding='utf-8') as file:\n",
        "    csv_reader = csv.reader(file)\n",
        "    null_count =0\n",
        "    wrong_count =0\n",
        "    # Iterate over each row in the CSV file\n",
        "    i=0\n",
        "    fail = 0\n",
        "    next(csv_reader)\n",
        "    rows = list(csv_reader)\n",
        "    print(len(rows))\n",
        "    for i in range(0,len(rows)):\n",
        "\n",
        "        j = 11\n",
        "        value = rows[i][j]\n",
        "\n",
        "        pattern = re.compile(r'\\b(?:[1-9]|[12]\\d|3[01])-(?:Jan|Feb|Mar|Apr|May|Jun|Jul|Aug|Sep|Oct|Nov|Dec)-\\d{2}\\b', re.UNICODE)\n",
        "\n",
        "        if not bool(pattern.match(value)):\n",
        "           wrong_count +=1\n",
        "           if value == \"N/A\":\n",
        "              null_count += 1\n",
        "\n",
        "    accuracy = calculate_accuracy(len(rows),wrong_count)\n",
        "    validity = check_validity(len(rows),null_count,len(rows) - wrong_count)\n",
        "    complpeteness = calculate_completeness(len(rows),null_count)\n",
        "    df.at[feature_index, 'Feature'] = \"Last Update\"\n",
        "    df.at[feature_index, 'recods Num'] = len(rows)\n",
        "    df.at[feature_index, 'Null num'] = null_count\n",
        "    df.at[feature_index, 'Accuracy'] = accuracy\n",
        "\n",
        "    df.at[feature_index, 'Completness'] = complpeteness\n",
        "    df.at[feature_index, 'Validity'] = validity\n",
        "    #print(df)\n",
        "    print(tabulate(df, headers='keys', tablefmt='fancy_grid'))\n"
      ],
      "metadata": {
        "colab": {
          "base_uri": "https://localhost:8080/"
        },
        "id": "_wkr8D_mDuTM",
        "outputId": "87f53a46-a131-470d-a4e9-27c34d7f85a3"
      },
      "execution_count": null,
      "outputs": [
        {
          "output_type": "stream",
          "name": "stdout",
          "text": [
            "Drive already mounted at /content/drive; to attempt to forcibly remount, call drive.mount(\"/content/drive\", force_remount=True).\n",
            "10840\n",
            "----------\n",
            "10840\n",
            "10840\n",
            "0\n",
            "100.0\n",
            "-----------\n",
            "╒════╤═════════════════╤══════════════╤════════════╤════════════╤═══════════════╤════════════╕\n",
            "│    │ Feature         │   recods Num │   Null num │   Accuracy │   Completness │   Validity │\n",
            "╞════╪═════════════════╪══════════════╪════════════╪════════════╪═══════════════╪════════════╡\n",
            "│  0 │ Android Version │        10840 │          0 │    87.417  │      100      │    87.417  │\n",
            "├────┼─────────────────┼──────────────┼────────────┼────────────┼───────────────┼────────────┤\n",
            "│  1 │ App Name        │       450794 │          0 │   100      │      100      │   100      │\n",
            "├────┼─────────────────┼──────────────┼────────────┼────────────┼───────────────┼────────────┤\n",
            "│  2 │ categories      │        10840 │          0 │   100      │      100      │   100      │\n",
            "├────┼─────────────────┼──────────────┼────────────┼────────────┼───────────────┼────────────┤\n",
            "│  3 │ Rating          │        10840 │       1474 │    86.4022 │       86.4022 │   100      │\n",
            "├────┼─────────────────┼──────────────┼────────────┼────────────┼───────────────┼────────────┤\n",
            "│  4 │ Reviews         │        10840 │          0 │   100      │      100      │   100      │\n",
            "├────┼─────────────────┼──────────────┼────────────┼────────────┼───────────────┼────────────┤\n",
            "│  5 │ Size            │        10840 │          0 │    84.3635 │      100      │    84.3635 │\n",
            "├────┼─────────────────┼──────────────┼────────────┼────────────┼───────────────┼────────────┤\n",
            "│  6 │ Installs        │        10840 │          0 │   100      │      100      │   100      │\n",
            "├────┼─────────────────┼──────────────┼────────────┼────────────┼───────────────┼────────────┤\n",
            "│  7 │ Free            │        10840 │          1 │   100      │       99.9908 │   100.009  │\n",
            "├────┼─────────────────┼──────────────┼────────────┼────────────┼───────────────┼────────────┤\n",
            "│  8 │ Price           │        10840 │          0 │   100      │      100      │   100      │\n",
            "├────┼─────────────────┼──────────────┼────────────┼────────────┼───────────────┼────────────┤\n",
            "│  9 │ Content Rating  │        10840 │          0 │    99.9815 │      100      │    99.9815 │\n",
            "├────┼─────────────────┼──────────────┼────────────┼────────────┼───────────────┼────────────┤\n",
            "│ 10 │ categories      │        10840 │          0 │   100      │      100      │   100      │\n",
            "├────┼─────────────────┼──────────────┼────────────┼────────────┼───────────────┼────────────┤\n",
            "│ 11 │ Last Update     │        10840 │          0 │   100      │      100      │   100      │\n",
            "╘════╧═════════════════╧══════════════╧════════════╧════════════╧═══════════════╧════════════╛\n"
          ]
        }
      ]
    },
    {
      "cell_type": "code",
      "source": [
        "from ast import pattern\n",
        "import csv\n",
        "# Version\n",
        "# Path to your CSV file\n",
        "drive.mount('/content/drive')\n",
        "csv_file_path = \"drive/MyDrive/Colab Notebooks//GooglePlay.csv\"\n",
        "feature_index += 1\n",
        "# Open the CSV file\n",
        "with open(csv_file_path, newline='', encoding='utf-8') as file:\n",
        "    csv_reader = csv.reader(file)\n",
        "    wrong_count = 0\n",
        "    null_count = 0\n",
        "    # Iterate over each row in the CSV file\n",
        "    i=0\n",
        "    next(csv_reader)\n",
        "    rows = list(csv_reader)\n",
        "    print(len(rows))\n",
        "    for i in range(0,len(rows)):\n",
        "        j = 12\n",
        "        value = rows[i][j]\n",
        "        pattern = re.compile(r'(Version|version|Android|android|v|V)?[0-9]+(\\.[0-9]+)*(\\s*-\\s*[0-9]+)?')\n",
        "        if not bool(pattern.match(value)):\n",
        "\n",
        "          wrong_count +=1\n",
        "          if value == \"N/A\":\n",
        "            null_count += 1\n",
        "\n",
        "    accuracy = calculate_accuracy(len(rows),wrong_count)\n",
        "    validity = check_validity(len(rows),null_count,len(rows) - wrong_count)\n",
        "    complpeteness = calculate_completeness(len(rows),null_count)\n",
        "    df.at[feature_index, 'Feature'] = \"Android Version\"\n",
        "    df.at[feature_index, 'recods Num'] = len(rows)\n",
        "    df.at[feature_index, 'Null num'] = null_count\n",
        "    df.at[feature_index, 'Accuracy'] = accuracy\n",
        "\n",
        "    df.at[feature_index, 'Completness'] = complpeteness\n",
        "    df.at[feature_index, 'Validity'] = validity\n",
        "    #print(df)\n",
        "    print(tabulate(df, headers='keys', tablefmt='fancy_grid'))"
      ],
      "metadata": {
        "colab": {
          "base_uri": "https://localhost:8080/"
        },
        "id": "amdjngF7EAlr",
        "outputId": "a5228f9c-c9e1-4319-ead0-446c486fd408"
      },
      "execution_count": null,
      "outputs": [
        {
          "output_type": "stream",
          "name": "stdout",
          "text": [
            "Drive already mounted at /content/drive; to attempt to forcibly remount, call drive.mount(\"/content/drive\", force_remount=True).\n",
            "10840\n",
            "----------\n",
            "9286\n",
            "10840\n",
            "0\n",
            "85.66420664206642\n",
            "-----------\n",
            "╒════╤═════════════════╤══════════════╤════════════╤════════════╤═══════════════╤════════════╕\n",
            "│    │ Feature         │   recods Num │   Null num │   Accuracy │   Completness │   Validity │\n",
            "╞════╪═════════════════╪══════════════╪════════════╪════════════╪═══════════════╪════════════╡\n",
            "│  0 │ Android Version │        10840 │          0 │    87.417  │      100      │    87.417  │\n",
            "├────┼─────────────────┼──────────────┼────────────┼────────────┼───────────────┼────────────┤\n",
            "│  1 │ App Name        │       450794 │          0 │   100      │      100      │   100      │\n",
            "├────┼─────────────────┼──────────────┼────────────┼────────────┼───────────────┼────────────┤\n",
            "│  2 │ categories      │        10840 │          0 │   100      │      100      │   100      │\n",
            "├────┼─────────────────┼──────────────┼────────────┼────────────┼───────────────┼────────────┤\n",
            "│  3 │ Rating          │        10840 │       1474 │    86.4022 │       86.4022 │   100      │\n",
            "├────┼─────────────────┼──────────────┼────────────┼────────────┼───────────────┼────────────┤\n",
            "│  4 │ Reviews         │        10840 │          0 │   100      │      100      │   100      │\n",
            "├────┼─────────────────┼──────────────┼────────────┼────────────┼───────────────┼────────────┤\n",
            "│  5 │ Size            │        10840 │          0 │    84.3635 │      100      │    84.3635 │\n",
            "├────┼─────────────────┼──────────────┼────────────┼────────────┼───────────────┼────────────┤\n",
            "│  6 │ Installs        │        10840 │          0 │   100      │      100      │   100      │\n",
            "├────┼─────────────────┼──────────────┼────────────┼────────────┼───────────────┼────────────┤\n",
            "│  7 │ Free            │        10840 │          1 │   100      │       99.9908 │   100.009  │\n",
            "├────┼─────────────────┼──────────────┼────────────┼────────────┼───────────────┼────────────┤\n",
            "│  8 │ Price           │        10840 │          0 │   100      │      100      │   100      │\n",
            "├────┼─────────────────┼──────────────┼────────────┼────────────┼───────────────┼────────────┤\n",
            "│  9 │ Content Rating  │        10840 │          0 │    99.9815 │      100      │    99.9815 │\n",
            "├────┼─────────────────┼──────────────┼────────────┼────────────┼───────────────┼────────────┤\n",
            "│ 10 │ categories      │        10840 │          0 │   100      │      100      │   100      │\n",
            "├────┼─────────────────┼──────────────┼────────────┼────────────┼───────────────┼────────────┤\n",
            "│ 11 │ Last Update     │        10840 │          0 │   100      │      100      │   100      │\n",
            "├────┼─────────────────┼──────────────┼────────────┼────────────┼───────────────┼────────────┤\n",
            "│ 12 │ Android Version │        10840 │          0 │    85.6642 │      100      │    85.6642 │\n",
            "╘════╧═════════════════╧══════════════╧════════════╧════════════╧═══════════════╧════════════╛\n"
          ]
        }
      ]
    },
    {
      "cell_type": "code",
      "source": [
        "from ast import pattern\n",
        "import csv\n",
        "#Android Version\n",
        "# Path to your CSV file\n",
        "drive.mount('/content/drive')\n",
        "csv_file_path = \"drive/MyDrive/Colab Notebooks//GooglePlay.csv\"\n",
        "feature_index += 1\n",
        "# Open the CSV file\n",
        "with open(csv_file_path, newline='', encoding='utf-8') as file:\n",
        "    csv_reader = csv.reader(file)\n",
        "    wrong_count = 0\n",
        "    null_count = 0\n",
        "    # Iterate over each row in the CSV file\n",
        "    i=0\n",
        "    next(csv_reader)\n",
        "    rows = list(csv_reader)\n",
        "    print(len(rows))\n",
        "    for i in range(0,len(rows)):\n",
        "        j = 13\n",
        "        value = rows[i][j]\n",
        "        pattern = re.compile(r'\\b\\d+(\\.\\d+)?(\\.\\d+)?(\\s*-\\s*\\d+(\\.\\d+)?(\\.\\d+)?)?[Ww]?(\\s*and\\s+up)?\\b')\n",
        "        if not bool(pattern.match(value)):\n",
        "          #print(f\"{value} Not  matches the pattern \")\n",
        "          wrong_count +=1\n",
        "          if value == \"N/A\":\n",
        "            null_count += 1\n",
        "\n",
        "    accuracy = calculate_accuracy(len(rows),wrong_count)\n",
        "    validity = check_validity(len(rows),null_count,len(rows) - wrong_count)\n",
        "    complpeteness = calculate_completeness(len(rows),null_count)\n",
        "    df.at[feature_index, 'Feature'] = \"Android Version\"\n",
        "    df.at[feature_index, 'recods Num'] = len(rows)\n",
        "    df.at[feature_index, 'Null num'] = null_count\n",
        "    df.at[feature_index, 'Accuracy'] = accuracy\n",
        "\n",
        "    df.at[feature_index, 'Completness'] = complpeteness\n",
        "    df.at[feature_index, 'Validity'] = validity\n",
        "    #print(df)\n",
        "    print(tabulate(df, headers='keys', tablefmt='fancy_grid'))"
      ],
      "metadata": {
        "colab": {
          "base_uri": "https://localhost:8080/"
        },
        "id": "XGK0L6KWIP-e",
        "outputId": "9c41452c-090e-42b2-e4be-2ba020d1a52d"
      },
      "execution_count": null,
      "outputs": [
        {
          "output_type": "stream",
          "name": "stdout",
          "text": [
            "Drive already mounted at /content/drive; to attempt to forcibly remount, call drive.mount(\"/content/drive\", force_remount=True).\n",
            "10840\n",
            "----------\n",
            "9476\n",
            "10840\n",
            "0\n",
            "87.4169741697417\n",
            "-----------\n",
            "╒════╤═════════════════╤══════════════╤════════════╤════════════╤═══════════════╤════════════╕\n",
            "│    │ Feature         │   recods Num │   Null num │   Accuracy │   Completness │   Validity │\n",
            "╞════╪═════════════════╪══════════════╪════════════╪════════════╪═══════════════╪════════════╡\n",
            "│  0 │ Android Version │        10840 │          0 │    87.417  │      100      │    87.417  │\n",
            "├────┼─────────────────┼──────────────┼────────────┼────────────┼───────────────┼────────────┤\n",
            "│  1 │ App Name        │       450794 │          0 │   100      │      100      │   100      │\n",
            "├────┼─────────────────┼──────────────┼────────────┼────────────┼───────────────┼────────────┤\n",
            "│  2 │ categories      │        10840 │          0 │   100      │      100      │   100      │\n",
            "├────┼─────────────────┼──────────────┼────────────┼────────────┼───────────────┼────────────┤\n",
            "│  3 │ Rating          │        10840 │       1474 │    86.4022 │       86.4022 │   100      │\n",
            "├────┼─────────────────┼──────────────┼────────────┼────────────┼───────────────┼────────────┤\n",
            "│  4 │ Reviews         │        10840 │          0 │   100      │      100      │   100      │\n",
            "├────┼─────────────────┼──────────────┼────────────┼────────────┼───────────────┼────────────┤\n",
            "│  5 │ Size            │        10840 │          0 │    84.3635 │      100      │    84.3635 │\n",
            "├────┼─────────────────┼──────────────┼────────────┼────────────┼───────────────┼────────────┤\n",
            "│  6 │ Installs        │        10840 │          0 │   100      │      100      │   100      │\n",
            "├────┼─────────────────┼──────────────┼────────────┼────────────┼───────────────┼────────────┤\n",
            "│  7 │ Free            │        10840 │          1 │   100      │       99.9908 │   100.009  │\n",
            "├────┼─────────────────┼──────────────┼────────────┼────────────┼───────────────┼────────────┤\n",
            "│  8 │ Price           │        10840 │          0 │   100      │      100      │   100      │\n",
            "├────┼─────────────────┼──────────────┼────────────┼────────────┼───────────────┼────────────┤\n",
            "│  9 │ Content Rating  │        10840 │          0 │    99.9815 │      100      │    99.9815 │\n",
            "├────┼─────────────────┼──────────────┼────────────┼────────────┼───────────────┼────────────┤\n",
            "│ 10 │ categories      │        10840 │          0 │   100      │      100      │   100      │\n",
            "├────┼─────────────────┼──────────────┼────────────┼────────────┼───────────────┼────────────┤\n",
            "│ 11 │ Last Update     │        10840 │          0 │   100      │      100      │   100      │\n",
            "├────┼─────────────────┼──────────────┼────────────┼────────────┼───────────────┼────────────┤\n",
            "│ 12 │ Android Version │        10840 │          0 │    85.6642 │      100      │    85.6642 │\n",
            "├────┼─────────────────┼──────────────┼────────────┼────────────┼───────────────┼────────────┤\n",
            "│ 13 │ Android Version │        10840 │          0 │    87.417  │      100      │    87.417  │\n",
            "╘════╧═════════════════╧══════════════╧════════════╧════════════╧═══════════════╧════════════╛\n"
          ]
        }
      ]
    },
    {
      "cell_type": "markdown",
      "source": [
        "# Part 2"
      ],
      "metadata": {
        "id": "YC5vVdeGrjmn"
      }
    },
    {
      "cell_type": "markdown",
      "source": [
        "**Single Instance**"
      ],
      "metadata": {
        "id": "TLQKe0TJr-o_"
      }
    },
    {
      "cell_type": "markdown",
      "source": [
        "*In Rating, we have have so many null and this problem counts as a single instance problem (Missing Valus)*"
      ],
      "metadata": {
        "id": "n_cubnpxn_I0"
      }
    },
    {
      "cell_type": "markdown",
      "source": [],
      "metadata": {
        "id": "ZcuY4xcxshjB"
      }
    }
  ],
  "metadata": {
    "colab": {
      "provenance": [],
      "include_colab_link": true
    },
    "kernelspec": {
      "display_name": "Python 3",
      "name": "python3"
    },
    "language_info": {
      "name": "python"
    }
  },
  "nbformat": 4,
  "nbformat_minor": 0
}